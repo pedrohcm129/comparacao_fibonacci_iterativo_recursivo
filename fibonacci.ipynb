{
 "cells": [
  {
   "cell_type": "markdown",
   "metadata": {},
   "source": [
    "#### Importanto as dependências "
   ]
  },
  {
   "cell_type": "code",
   "execution_count": 1,
   "metadata": {},
   "outputs": [],
   "source": [
    "import time\n",
    "import matplotlib.pyplot as plt\n",
    "import pandas"
   ]
  },
  {
   "cell_type": "markdown",
   "metadata": {},
   "source": [
    "#### Implementando as funções iterativa e recursiva do fibonacci"
   ]
  },
  {
   "cell_type": "code",
   "execution_count": 2,
   "metadata": {},
   "outputs": [],
   "source": [
    "\n",
    "def fibonacci_recursivo(n):\n",
    "    if n <= 1:\n",
    "        return n\n",
    "    else:\n",
    "        return fibonacci_recursivo(n - 1) + fibonacci_recursivo(n - 2)"
   ]
  },
  {
   "cell_type": "code",
   "execution_count": 3,
   "metadata": {},
   "outputs": [],
   "source": [
    "def fibonacci_iterativo(n):\n",
    "    fib = [0, 1]\n",
    "    for i in range(2, n + 1):\n",
    "        fib.append(fib[i - 1] + fib[i - 2])\n",
    "    return fib[n]"
   ]
  },
  {
   "cell_type": "markdown",
   "metadata": {},
   "source": [
    "##### Valores de entrada"
   ]
  },
  {
   "cell_type": "code",
   "execution_count": 4,
   "metadata": {},
   "outputs": [],
   "source": [
    "valor_fibonacci = [10, 15, 20, 25, 30, 35, 40]"
   ]
  },
  {
   "cell_type": "markdown",
   "metadata": {},
   "source": [
    "#### Calculando os tempos da função recursiva"
   ]
  },
  {
   "cell_type": "code",
   "execution_count": 5,
   "metadata": {},
   "outputs": [
    {
     "name": "stdout",
     "output_type": "stream",
     "text": [
      "{'1': [0.0, 0.0, 0.001994609832763672, 0.017951488494873047, 0.285236120223999, 3.093721866607666, 26.806267261505127]}\n",
      "{'2': [0.0, 0.0009980201721191406, 0.0009968280792236328, 0.01795220375061035, 0.2014610767364502, 2.2918684482574463, 24.685972690582275]}\n",
      "{'3': [0.0, 0.0, 0.0019626617431640625, 0.017951488494873047, 0.19849944114685059, 2.226038694381714, 24.60715913772583]}\n",
      "{'4': [0.0, 0.0, 0.0009980201721191406, 0.017919063568115234, 0.19547772407531738, 2.215101718902588, 24.342829942703247]}\n",
      "{'5': [0.0, 0.000997781753540039, 0.0009970664978027344, 0.017983675003051758, 0.19846653938293457, 2.2210569381713867, 24.4665310382843]}\n",
      "{'6': [0.0, 0.0, 0.0009963512420654297, 0.01795172691345215, 0.19345307350158691, 2.2100865840911865, 24.418657779693604]}\n",
      "{'7': [0.0, 0.0, 0.0009655952453613281, 0.017951011657714844, 0.19151949882507324, 2.1452269554138184, 24.37081527709961]}\n",
      "{'8': [0.0, 0.0, 0.0009970664978027344, 0.017954111099243164, 0.198469877243042, 2.2220211029052734, 24.117464303970337]}\n",
      "{'9': [0.0, 0.0, 0.0009975433349609375, 0.018949270248413086, 0.19448018074035645, 2.2469863891601562, 24.46652865409851]}\n",
      "{'10': [0.0009982585906982422, 0.0, 0.0010280609130859375, 0.020913124084472656, 0.20348477363586426, 2.321786403656006, 24.68694043159485]}\n"
     ]
    }
   ],
   "source": [
    "\n",
    "resultado_recursivo = dict()\n",
    "for c in range(0, 10):\n",
    "    resultados_tempo_bateria_teste = {f\"{c + 1}\": []}\n",
    "    for i in valor_fibonacci:\n",
    "        tempo_inicial = time.time()\n",
    "        fibonacci_recursivo(i)\n",
    "        tempo_final = time.time()\n",
    "        resultados_tempo_bateria_teste[f\"{c + 1}\"].append(tempo_final - tempo_inicial)\n",
    "    resultado_recursivo.update(resultados_tempo_bateria_teste)\n",
    "    print(resultados_tempo_bateria_teste)"
   ]
  },
  {
   "cell_type": "markdown",
   "metadata": {},
   "source": [
    "#### Calculando os tempos da função iterativa"
   ]
  },
  {
   "cell_type": "code",
   "execution_count": 6,
   "metadata": {},
   "outputs": [
    {
     "name": "stdout",
     "output_type": "stream",
     "text": [
      "{'1': [0.0, 0.0, 0.0, 0.0, 0.0, 0.0, 0.0]}\n",
      "{'2': [0.0, 0.0, 0.0, 0.0, 0.0, 0.0, 0.0]}\n",
      "{'3': [0.0, 0.0, 0.0, 0.0, 0.0, 0.0, 0.000997304916381836]}\n",
      "{'4': [0.0, 0.0, 0.0, 0.0, 0.0, 0.0, 0.0]}\n",
      "{'5': [0.0, 0.0, 0.0, 0.0, 0.0, 0.0, 0.0]}\n",
      "{'6': [0.0, 0.0, 0.0, 0.0, 0.0, 0.0, 0.0]}\n",
      "{'7': [0.0, 0.0, 0.0, 0.0, 0.0, 0.0, 0.0]}\n",
      "{'8': [0.0, 0.0, 0.0, 0.0, 0.0, 0.0, 0.0]}\n",
      "{'9': [0.0, 0.0, 0.0, 0.0, 0.0, 0.0, 0.0]}\n",
      "{'10': [0.0, 0.0, 0.0, 0.0, 0.0, 0.0, 0.0]}\n"
     ]
    }
   ],
   "source": [
    "resultado_iterativo = dict()\n",
    "for c in range(0, 10):\n",
    "    resultados_tempo_bateria_teste = {f\"{c + 1}\": []}\n",
    "    for i in valor_fibonacci:\n",
    "        tempo_inicial = time.time()\n",
    "        fibonacci_iterativo(i)\n",
    "        tempo_final = time.time()\n",
    "        resultados_tempo_bateria_teste[f\"{c + 1}\"].append(tempo_final - tempo_inicial)\n",
    "    resultado_iterativo.update(resultados_tempo_bateria_teste)\n",
    "    print(resultados_tempo_bateria_teste)"
   ]
  },
  {
   "cell_type": "markdown",
   "metadata": {},
   "source": [
    "#### Salvando os resultados em um csv"
   ]
  },
  {
   "cell_type": "code",
   "execution_count": 7,
   "metadata": {},
   "outputs": [],
   "source": [
    "dados_iterativo = pandas.DataFrame(resultado_iterativo)\n",
    "dados_iterativo.index = valor_fibonacci\n",
    "dados_iterativo.to_csv(\"resultados_iterativo_fibonacci.csv\")"
   ]
  },
  {
   "cell_type": "code",
   "execution_count": 9,
   "metadata": {},
   "outputs": [
    {
     "data": {
      "text/html": [
       "<div>\n",
       "<style scoped>\n",
       "    .dataframe tbody tr th:only-of-type {\n",
       "        vertical-align: middle;\n",
       "    }\n",
       "\n",
       "    .dataframe tbody tr th {\n",
       "        vertical-align: top;\n",
       "    }\n",
       "\n",
       "    .dataframe thead th {\n",
       "        text-align: right;\n",
       "    }\n",
       "</style>\n",
       "<table border=\"1\" class=\"dataframe\">\n",
       "  <thead>\n",
       "    <tr style=\"text-align: right;\">\n",
       "      <th></th>\n",
       "      <th>1</th>\n",
       "      <th>2</th>\n",
       "      <th>3</th>\n",
       "      <th>4</th>\n",
       "      <th>5</th>\n",
       "      <th>6</th>\n",
       "      <th>7</th>\n",
       "      <th>8</th>\n",
       "      <th>9</th>\n",
       "      <th>10</th>\n",
       "    </tr>\n",
       "  </thead>\n",
       "  <tbody>\n",
       "    <tr>\n",
       "      <th>10</th>\n",
       "      <td>0.0</td>\n",
       "      <td>0.0</td>\n",
       "      <td>0.000000</td>\n",
       "      <td>0.0</td>\n",
       "      <td>0.0</td>\n",
       "      <td>0.0</td>\n",
       "      <td>0.0</td>\n",
       "      <td>0.0</td>\n",
       "      <td>0.0</td>\n",
       "      <td>0.0</td>\n",
       "    </tr>\n",
       "    <tr>\n",
       "      <th>15</th>\n",
       "      <td>0.0</td>\n",
       "      <td>0.0</td>\n",
       "      <td>0.000000</td>\n",
       "      <td>0.0</td>\n",
       "      <td>0.0</td>\n",
       "      <td>0.0</td>\n",
       "      <td>0.0</td>\n",
       "      <td>0.0</td>\n",
       "      <td>0.0</td>\n",
       "      <td>0.0</td>\n",
       "    </tr>\n",
       "    <tr>\n",
       "      <th>20</th>\n",
       "      <td>0.0</td>\n",
       "      <td>0.0</td>\n",
       "      <td>0.000000</td>\n",
       "      <td>0.0</td>\n",
       "      <td>0.0</td>\n",
       "      <td>0.0</td>\n",
       "      <td>0.0</td>\n",
       "      <td>0.0</td>\n",
       "      <td>0.0</td>\n",
       "      <td>0.0</td>\n",
       "    </tr>\n",
       "    <tr>\n",
       "      <th>25</th>\n",
       "      <td>0.0</td>\n",
       "      <td>0.0</td>\n",
       "      <td>0.000000</td>\n",
       "      <td>0.0</td>\n",
       "      <td>0.0</td>\n",
       "      <td>0.0</td>\n",
       "      <td>0.0</td>\n",
       "      <td>0.0</td>\n",
       "      <td>0.0</td>\n",
       "      <td>0.0</td>\n",
       "    </tr>\n",
       "    <tr>\n",
       "      <th>30</th>\n",
       "      <td>0.0</td>\n",
       "      <td>0.0</td>\n",
       "      <td>0.000000</td>\n",
       "      <td>0.0</td>\n",
       "      <td>0.0</td>\n",
       "      <td>0.0</td>\n",
       "      <td>0.0</td>\n",
       "      <td>0.0</td>\n",
       "      <td>0.0</td>\n",
       "      <td>0.0</td>\n",
       "    </tr>\n",
       "    <tr>\n",
       "      <th>35</th>\n",
       "      <td>0.0</td>\n",
       "      <td>0.0</td>\n",
       "      <td>0.000000</td>\n",
       "      <td>0.0</td>\n",
       "      <td>0.0</td>\n",
       "      <td>0.0</td>\n",
       "      <td>0.0</td>\n",
       "      <td>0.0</td>\n",
       "      <td>0.0</td>\n",
       "      <td>0.0</td>\n",
       "    </tr>\n",
       "    <tr>\n",
       "      <th>40</th>\n",
       "      <td>0.0</td>\n",
       "      <td>0.0</td>\n",
       "      <td>0.000997</td>\n",
       "      <td>0.0</td>\n",
       "      <td>0.0</td>\n",
       "      <td>0.0</td>\n",
       "      <td>0.0</td>\n",
       "      <td>0.0</td>\n",
       "      <td>0.0</td>\n",
       "      <td>0.0</td>\n",
       "    </tr>\n",
       "  </tbody>\n",
       "</table>\n",
       "</div>"
      ],
      "text/plain": [
       "      1    2         3    4    5    6    7    8    9   10\n",
       "10  0.0  0.0  0.000000  0.0  0.0  0.0  0.0  0.0  0.0  0.0\n",
       "15  0.0  0.0  0.000000  0.0  0.0  0.0  0.0  0.0  0.0  0.0\n",
       "20  0.0  0.0  0.000000  0.0  0.0  0.0  0.0  0.0  0.0  0.0\n",
       "25  0.0  0.0  0.000000  0.0  0.0  0.0  0.0  0.0  0.0  0.0\n",
       "30  0.0  0.0  0.000000  0.0  0.0  0.0  0.0  0.0  0.0  0.0\n",
       "35  0.0  0.0  0.000000  0.0  0.0  0.0  0.0  0.0  0.0  0.0\n",
       "40  0.0  0.0  0.000997  0.0  0.0  0.0  0.0  0.0  0.0  0.0"
      ]
     },
     "execution_count": 9,
     "metadata": {},
     "output_type": "execute_result"
    }
   ],
   "source": [
    "dados_iterativo"
   ]
  },
  {
   "cell_type": "code",
   "execution_count": 8,
   "metadata": {},
   "outputs": [],
   "source": [
    "dados_recursivo = pandas.DataFrame(resultado_recursivo)\n",
    "dados_recursivo.index = valor_fibonacci\n",
    "dados_recursivo.to_csv(\"resultados_recursivo_fibonacci.csv\")"
   ]
  },
  {
   "cell_type": "code",
   "execution_count": 10,
   "metadata": {},
   "outputs": [
    {
     "data": {
      "text/html": [
       "<div>\n",
       "<style scoped>\n",
       "    .dataframe tbody tr th:only-of-type {\n",
       "        vertical-align: middle;\n",
       "    }\n",
       "\n",
       "    .dataframe tbody tr th {\n",
       "        vertical-align: top;\n",
       "    }\n",
       "\n",
       "    .dataframe thead th {\n",
       "        text-align: right;\n",
       "    }\n",
       "</style>\n",
       "<table border=\"1\" class=\"dataframe\">\n",
       "  <thead>\n",
       "    <tr style=\"text-align: right;\">\n",
       "      <th></th>\n",
       "      <th>1</th>\n",
       "      <th>2</th>\n",
       "      <th>3</th>\n",
       "      <th>4</th>\n",
       "      <th>5</th>\n",
       "      <th>6</th>\n",
       "      <th>7</th>\n",
       "      <th>8</th>\n",
       "      <th>9</th>\n",
       "      <th>10</th>\n",
       "    </tr>\n",
       "  </thead>\n",
       "  <tbody>\n",
       "    <tr>\n",
       "      <th>10</th>\n",
       "      <td>0.000000</td>\n",
       "      <td>0.000000</td>\n",
       "      <td>0.000000</td>\n",
       "      <td>0.000000</td>\n",
       "      <td>0.000000</td>\n",
       "      <td>0.000000</td>\n",
       "      <td>0.000000</td>\n",
       "      <td>0.000000</td>\n",
       "      <td>0.000000</td>\n",
       "      <td>0.000998</td>\n",
       "    </tr>\n",
       "    <tr>\n",
       "      <th>15</th>\n",
       "      <td>0.000000</td>\n",
       "      <td>0.000998</td>\n",
       "      <td>0.000000</td>\n",
       "      <td>0.000000</td>\n",
       "      <td>0.000998</td>\n",
       "      <td>0.000000</td>\n",
       "      <td>0.000000</td>\n",
       "      <td>0.000000</td>\n",
       "      <td>0.000000</td>\n",
       "      <td>0.000000</td>\n",
       "    </tr>\n",
       "    <tr>\n",
       "      <th>20</th>\n",
       "      <td>0.001995</td>\n",
       "      <td>0.000997</td>\n",
       "      <td>0.001963</td>\n",
       "      <td>0.000998</td>\n",
       "      <td>0.000997</td>\n",
       "      <td>0.000996</td>\n",
       "      <td>0.000966</td>\n",
       "      <td>0.000997</td>\n",
       "      <td>0.000998</td>\n",
       "      <td>0.001028</td>\n",
       "    </tr>\n",
       "    <tr>\n",
       "      <th>25</th>\n",
       "      <td>0.017951</td>\n",
       "      <td>0.017952</td>\n",
       "      <td>0.017951</td>\n",
       "      <td>0.017919</td>\n",
       "      <td>0.017984</td>\n",
       "      <td>0.017952</td>\n",
       "      <td>0.017951</td>\n",
       "      <td>0.017954</td>\n",
       "      <td>0.018949</td>\n",
       "      <td>0.020913</td>\n",
       "    </tr>\n",
       "    <tr>\n",
       "      <th>30</th>\n",
       "      <td>0.285236</td>\n",
       "      <td>0.201461</td>\n",
       "      <td>0.198499</td>\n",
       "      <td>0.195478</td>\n",
       "      <td>0.198467</td>\n",
       "      <td>0.193453</td>\n",
       "      <td>0.191519</td>\n",
       "      <td>0.198470</td>\n",
       "      <td>0.194480</td>\n",
       "      <td>0.203485</td>\n",
       "    </tr>\n",
       "    <tr>\n",
       "      <th>35</th>\n",
       "      <td>3.093722</td>\n",
       "      <td>2.291868</td>\n",
       "      <td>2.226039</td>\n",
       "      <td>2.215102</td>\n",
       "      <td>2.221057</td>\n",
       "      <td>2.210087</td>\n",
       "      <td>2.145227</td>\n",
       "      <td>2.222021</td>\n",
       "      <td>2.246986</td>\n",
       "      <td>2.321786</td>\n",
       "    </tr>\n",
       "    <tr>\n",
       "      <th>40</th>\n",
       "      <td>26.806267</td>\n",
       "      <td>24.685973</td>\n",
       "      <td>24.607159</td>\n",
       "      <td>24.342830</td>\n",
       "      <td>24.466531</td>\n",
       "      <td>24.418658</td>\n",
       "      <td>24.370815</td>\n",
       "      <td>24.117464</td>\n",
       "      <td>24.466529</td>\n",
       "      <td>24.686940</td>\n",
       "    </tr>\n",
       "  </tbody>\n",
       "</table>\n",
       "</div>"
      ],
      "text/plain": [
       "            1          2          3          4          5          6   \n",
       "10   0.000000   0.000000   0.000000   0.000000   0.000000   0.000000  \\\n",
       "15   0.000000   0.000998   0.000000   0.000000   0.000998   0.000000   \n",
       "20   0.001995   0.000997   0.001963   0.000998   0.000997   0.000996   \n",
       "25   0.017951   0.017952   0.017951   0.017919   0.017984   0.017952   \n",
       "30   0.285236   0.201461   0.198499   0.195478   0.198467   0.193453   \n",
       "35   3.093722   2.291868   2.226039   2.215102   2.221057   2.210087   \n",
       "40  26.806267  24.685973  24.607159  24.342830  24.466531  24.418658   \n",
       "\n",
       "            7          8          9         10  \n",
       "10   0.000000   0.000000   0.000000   0.000998  \n",
       "15   0.000000   0.000000   0.000000   0.000000  \n",
       "20   0.000966   0.000997   0.000998   0.001028  \n",
       "25   0.017951   0.017954   0.018949   0.020913  \n",
       "30   0.191519   0.198470   0.194480   0.203485  \n",
       "35   2.145227   2.222021   2.246986   2.321786  \n",
       "40  24.370815  24.117464  24.466529  24.686940  "
      ]
     },
     "execution_count": 10,
     "metadata": {},
     "output_type": "execute_result"
    }
   ],
   "source": [
    "dados_recursivo"
   ]
  }
 ],
 "metadata": {
  "kernelspec": {
   "display_name": "Python 3",
   "language": "python",
   "name": "python3"
  },
  "language_info": {
   "codemirror_mode": {
    "name": "ipython",
    "version": 3
   },
   "file_extension": ".py",
   "mimetype": "text/x-python",
   "name": "python",
   "nbconvert_exporter": "python",
   "pygments_lexer": "ipython3",
   "version": "3.11.2"
  }
 },
 "nbformat": 4,
 "nbformat_minor": 2
}
