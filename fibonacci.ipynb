{
 "cells": [
  {
   "cell_type": "markdown",
   "metadata": {},
   "source": [
    "#### Importanto as dependências "
   ]
  },
  {
   "cell_type": "code",
   "execution_count": 1,
   "metadata": {},
   "outputs": [],
   "source": [
    "import time\n",
    "import matplotlib.pyplot as plt\n",
    "import pandas"
   ]
  },
  {
   "cell_type": "markdown",
   "metadata": {},
   "source": [
    "#### Implementando as funções iterativa e recursiva do fibonacci"
   ]
  },
  {
   "cell_type": "code",
   "execution_count": 2,
   "metadata": {},
   "outputs": [],
   "source": [
    "\n",
    "def fibonacci_recursivo(n):\n",
    "    if n <= 1:\n",
    "        return n\n",
    "    else:\n",
    "        return fibonacci_recursivo(n - 1) + fibonacci_recursivo(n - 2)"
   ]
  },
  {
   "cell_type": "code",
   "execution_count": 3,
   "metadata": {},
   "outputs": [],
   "source": [
    "def fibonacci_iterativo(n):\n",
    "    fib = [0, 1]\n",
    "    for i in range(2, n + 1):\n",
    "        fib.append(fib[i - 1] + fib[i - 2])\n",
    "    return fib[n]"
   ]
  },
  {
   "cell_type": "markdown",
   "metadata": {},
   "source": [
    "#### Calculando os tempos da função recursiva"
   ]
  },
  {
   "cell_type": "code",
   "execution_count": 4,
   "metadata": {},
   "outputs": [
    {
     "ename": "KeyboardInterrupt",
     "evalue": "",
     "output_type": "error",
     "traceback": [
      "\u001b[1;31m---------------------------------------------------------------------------\u001b[0m",
      "\u001b[1;31mKeyboardInterrupt\u001b[0m                         Traceback (most recent call last)",
      "\u001b[1;32mc:\\Users\\pedro\\OneDrive\\Documentos\\ufopa\\5º Semestre\\Teoria da Computação\\fibonacci.ipynb Célula 7\u001b[0m line \u001b[0;36m7\n\u001b[0;32m      <a href='vscode-notebook-cell:/c%3A/Users/pedro/OneDrive/Documentos/ufopa/5%C2%BA%20Semestre/Teoria%20da%20Computa%C3%A7%C3%A3o/fibonacci.ipynb#W6sZmlsZQ%3D%3D?line=4'>5</a>\u001b[0m \u001b[39mfor\u001b[39;00m i \u001b[39min\u001b[39;00m valor_fibonacci:\n\u001b[0;32m      <a href='vscode-notebook-cell:/c%3A/Users/pedro/OneDrive/Documentos/ufopa/5%C2%BA%20Semestre/Teoria%20da%20Computa%C3%A7%C3%A3o/fibonacci.ipynb#W6sZmlsZQ%3D%3D?line=5'>6</a>\u001b[0m     tempo_inicial \u001b[39m=\u001b[39m time\u001b[39m.\u001b[39mtime()\n\u001b[1;32m----> <a href='vscode-notebook-cell:/c%3A/Users/pedro/OneDrive/Documentos/ufopa/5%C2%BA%20Semestre/Teoria%20da%20Computa%C3%A7%C3%A3o/fibonacci.ipynb#W6sZmlsZQ%3D%3D?line=6'>7</a>\u001b[0m     fibonacci_recursivo(i)\n\u001b[0;32m      <a href='vscode-notebook-cell:/c%3A/Users/pedro/OneDrive/Documentos/ufopa/5%C2%BA%20Semestre/Teoria%20da%20Computa%C3%A7%C3%A3o/fibonacci.ipynb#W6sZmlsZQ%3D%3D?line=7'>8</a>\u001b[0m     tempo_final \u001b[39m=\u001b[39m time\u001b[39m.\u001b[39mtime()\n\u001b[0;32m      <a href='vscode-notebook-cell:/c%3A/Users/pedro/OneDrive/Documentos/ufopa/5%C2%BA%20Semestre/Teoria%20da%20Computa%C3%A7%C3%A3o/fibonacci.ipynb#W6sZmlsZQ%3D%3D?line=8'>9</a>\u001b[0m     resultados_tempo_bateria_teste[\u001b[39mf\u001b[39m\u001b[39m\"\u001b[39m\u001b[39m{\u001b[39;00mc\u001b[39m \u001b[39m\u001b[39m+\u001b[39m\u001b[39m \u001b[39m\u001b[39m1\u001b[39m\u001b[39m}\u001b[39;00m\u001b[39m\"\u001b[39m]\u001b[39m.\u001b[39mappend(tempo_final \u001b[39m-\u001b[39m tempo_inicial)\n",
      "\u001b[1;32mc:\\Users\\pedro\\OneDrive\\Documentos\\ufopa\\5º Semestre\\Teoria da Computação\\fibonacci.ipynb Célula 7\u001b[0m line \u001b[0;36m5\n\u001b[0;32m      <a href='vscode-notebook-cell:/c%3A/Users/pedro/OneDrive/Documentos/ufopa/5%C2%BA%20Semestre/Teoria%20da%20Computa%C3%A7%C3%A3o/fibonacci.ipynb#W6sZmlsZQ%3D%3D?line=2'>3</a>\u001b[0m     \u001b[39mreturn\u001b[39;00m n\n\u001b[0;32m      <a href='vscode-notebook-cell:/c%3A/Users/pedro/OneDrive/Documentos/ufopa/5%C2%BA%20Semestre/Teoria%20da%20Computa%C3%A7%C3%A3o/fibonacci.ipynb#W6sZmlsZQ%3D%3D?line=3'>4</a>\u001b[0m \u001b[39melse\u001b[39;00m:\n\u001b[1;32m----> <a href='vscode-notebook-cell:/c%3A/Users/pedro/OneDrive/Documentos/ufopa/5%C2%BA%20Semestre/Teoria%20da%20Computa%C3%A7%C3%A3o/fibonacci.ipynb#W6sZmlsZQ%3D%3D?line=4'>5</a>\u001b[0m     \u001b[39mreturn\u001b[39;00m fibonacci_recursivo(n \u001b[39m-\u001b[39;49m \u001b[39m1\u001b[39;49m) \u001b[39m+\u001b[39m fibonacci_recursivo(n \u001b[39m-\u001b[39m \u001b[39m2\u001b[39m)\n",
      "\u001b[1;32mc:\\Users\\pedro\\OneDrive\\Documentos\\ufopa\\5º Semestre\\Teoria da Computação\\fibonacci.ipynb Célula 7\u001b[0m line \u001b[0;36m5\n\u001b[0;32m      <a href='vscode-notebook-cell:/c%3A/Users/pedro/OneDrive/Documentos/ufopa/5%C2%BA%20Semestre/Teoria%20da%20Computa%C3%A7%C3%A3o/fibonacci.ipynb#W6sZmlsZQ%3D%3D?line=2'>3</a>\u001b[0m     \u001b[39mreturn\u001b[39;00m n\n\u001b[0;32m      <a href='vscode-notebook-cell:/c%3A/Users/pedro/OneDrive/Documentos/ufopa/5%C2%BA%20Semestre/Teoria%20da%20Computa%C3%A7%C3%A3o/fibonacci.ipynb#W6sZmlsZQ%3D%3D?line=3'>4</a>\u001b[0m \u001b[39melse\u001b[39;00m:\n\u001b[1;32m----> <a href='vscode-notebook-cell:/c%3A/Users/pedro/OneDrive/Documentos/ufopa/5%C2%BA%20Semestre/Teoria%20da%20Computa%C3%A7%C3%A3o/fibonacci.ipynb#W6sZmlsZQ%3D%3D?line=4'>5</a>\u001b[0m     \u001b[39mreturn\u001b[39;00m fibonacci_recursivo(n \u001b[39m-\u001b[39m \u001b[39m1\u001b[39m) \u001b[39m+\u001b[39m fibonacci_recursivo(n \u001b[39m-\u001b[39;49m \u001b[39m2\u001b[39;49m)\n",
      "    \u001b[1;31m[... skipping similar frames: fibonacci_recursivo at line 5 (23 times)]\u001b[0m\n",
      "\u001b[1;32mc:\\Users\\pedro\\OneDrive\\Documentos\\ufopa\\5º Semestre\\Teoria da Computação\\fibonacci.ipynb Célula 7\u001b[0m line \u001b[0;36m5\n\u001b[0;32m      <a href='vscode-notebook-cell:/c%3A/Users/pedro/OneDrive/Documentos/ufopa/5%C2%BA%20Semestre/Teoria%20da%20Computa%C3%A7%C3%A3o/fibonacci.ipynb#W6sZmlsZQ%3D%3D?line=2'>3</a>\u001b[0m     \u001b[39mreturn\u001b[39;00m n\n\u001b[0;32m      <a href='vscode-notebook-cell:/c%3A/Users/pedro/OneDrive/Documentos/ufopa/5%C2%BA%20Semestre/Teoria%20da%20Computa%C3%A7%C3%A3o/fibonacci.ipynb#W6sZmlsZQ%3D%3D?line=3'>4</a>\u001b[0m \u001b[39melse\u001b[39;00m:\n\u001b[1;32m----> <a href='vscode-notebook-cell:/c%3A/Users/pedro/OneDrive/Documentos/ufopa/5%C2%BA%20Semestre/Teoria%20da%20Computa%C3%A7%C3%A3o/fibonacci.ipynb#W6sZmlsZQ%3D%3D?line=4'>5</a>\u001b[0m     \u001b[39mreturn\u001b[39;00m fibonacci_recursivo(n \u001b[39m-\u001b[39;49m \u001b[39m1\u001b[39;49m) \u001b[39m+\u001b[39m fibonacci_recursivo(n \u001b[39m-\u001b[39m \u001b[39m2\u001b[39m)\n",
      "\u001b[1;32mc:\\Users\\pedro\\OneDrive\\Documentos\\ufopa\\5º Semestre\\Teoria da Computação\\fibonacci.ipynb Célula 7\u001b[0m line \u001b[0;36m1\n\u001b[1;32m----> <a href='vscode-notebook-cell:/c%3A/Users/pedro/OneDrive/Documentos/ufopa/5%C2%BA%20Semestre/Teoria%20da%20Computa%C3%A7%C3%A3o/fibonacci.ipynb#W6sZmlsZQ%3D%3D?line=0'>1</a>\u001b[0m \u001b[39mdef\u001b[39;00m \u001b[39mfibonacci_recursivo\u001b[39m(n):\n\u001b[0;32m      <a href='vscode-notebook-cell:/c%3A/Users/pedro/OneDrive/Documentos/ufopa/5%C2%BA%20Semestre/Teoria%20da%20Computa%C3%A7%C3%A3o/fibonacci.ipynb#W6sZmlsZQ%3D%3D?line=1'>2</a>\u001b[0m     \u001b[39mif\u001b[39;00m n \u001b[39m<\u001b[39m\u001b[39m=\u001b[39m \u001b[39m1\u001b[39m:\n\u001b[0;32m      <a href='vscode-notebook-cell:/c%3A/Users/pedro/OneDrive/Documentos/ufopa/5%C2%BA%20Semestre/Teoria%20da%20Computa%C3%A7%C3%A3o/fibonacci.ipynb#W6sZmlsZQ%3D%3D?line=2'>3</a>\u001b[0m         \u001b[39mreturn\u001b[39;00m n\n",
      "\u001b[1;31mKeyboardInterrupt\u001b[0m: "
     ]
    }
   ],
   "source": [
    "valor_fibonacci = [10, 15, 20, 25, 30, 35, 40, 45, 50]\n",
    "resultado_recursivo = dict()\n",
    "for c in range(0, 10):\n",
    "    resultados_tempo_bateria_teste = {f\"{c + 1}\": []}\n",
    "    for i in valor_fibonacci:\n",
    "        tempo_inicial = time.time()\n",
    "        fibonacci_recursivo(i)\n",
    "        tempo_final = time.time()\n",
    "        resultados_tempo_bateria_teste[f\"{c + 1}\"].append(tempo_final - tempo_inicial)\n",
    "    resultado_recursivo.update(resultados_tempo_bateria_teste)"
   ]
  },
  {
   "cell_type": "markdown",
   "metadata": {},
   "source": [
    "#### Calculando os tempos da função iterativa"
   ]
  },
  {
   "cell_type": "code",
   "execution_count": 6,
   "metadata": {},
   "outputs": [
    {
     "name": "stdout",
     "output_type": "stream",
     "text": [
      "0.0\n"
     ]
    }
   ],
   "source": [
    "valor_fibonacci = [10, 15, 20, 25, 30, 35, 40, 45, 50]\n",
    "resultado_iterativo = dict()\n",
    "for c in range(0, 10):\n",
    "    resultados_tempo_bateria_teste = {f\"{c + 1}\": []}\n",
    "    for i in valor_fibonacci:\n",
    "        tempo_inicial = time.time()\n",
    "        fibonacci_iterativo(i)\n",
    "        tempo_final = time.time()\n",
    "        resultados_tempo_bateria_teste[f\"{c + 1}\"].append(tempo_final - tempo_inicial)\n",
    "    resultado_iterativo.update(resultados_tempo_bateria_teste)\n",
    "print(f\"{resultado_iterativo['1'][1]}\")"
   ]
  },
  {
   "cell_type": "markdown",
   "metadata": {},
   "source": [
    "#### Salvando os resultados em um csv"
   ]
  },
  {
   "cell_type": "code",
   "execution_count": 7,
   "metadata": {},
   "outputs": [],
   "source": [
    "dados_iterativo = pandas.DataFrame(resultado_iterativo)\n",
    "dados_iterativo.index = valor_fibonacci\n",
    "dados_iterativo.to_csv(\"resultados_iterativo_fibonacci.csv\")"
   ]
  },
  {
   "cell_type": "code",
   "execution_count": null,
   "metadata": {},
   "outputs": [],
   "source": [
    "dados_recursivo = pandas.DataFrame(resultado_iterativo)\n",
    "dados_recursivo.index = valor_fibonacci\n",
    "dados_recursivo.to_csv(\"resultados_recursivo_fibonacci.csv\")"
   ]
  }
 ],
 "metadata": {
  "kernelspec": {
   "display_name": "Python 3",
   "language": "python",
   "name": "python3"
  },
  "language_info": {
   "codemirror_mode": {
    "name": "ipython",
    "version": 3
   },
   "file_extension": ".py",
   "mimetype": "text/x-python",
   "name": "python",
   "nbconvert_exporter": "python",
   "pygments_lexer": "ipython3",
   "version": "3.11.2"
  }
 },
 "nbformat": 4,
 "nbformat_minor": 2
}
